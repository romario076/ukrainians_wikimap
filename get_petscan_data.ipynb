{
 "cells": [
  {
   "cell_type": "code",
   "execution_count": 134,
   "id": "1dd95b16-0edc-4528-a6e3-8d798f91064a",
   "metadata": {},
   "outputs": [
    {
     "data": {
      "text/plain": [
       "True"
      ]
     },
     "execution_count": 134,
     "metadata": {},
     "output_type": "execute_result"
    }
   ],
   "source": [
    "import os\n",
    "import requests\n",
    "import pandas as pd\n",
    "import json\n",
    "from SPARQLWrapper import SPARQLWrapper, JSON\n",
    "import warnings\n",
    "warnings.filterwarnings(action='ignore')\n",
    "from dotenv import load_dotenv, find_dotenv\n",
    "load_dotenv(find_dotenv())"
   ]
  },
  {
   "cell_type": "code",
   "execution_count": 135,
   "id": "ec41277d-5d5e-491b-979a-2bfafa87be21",
   "metadata": {},
   "outputs": [
    {
     "data": {
      "text/html": [
       "<style>:root { --jp-notebook-max-width: 90% !important; }</style>"
      ],
      "text/plain": [
       "<IPython.core.display.HTML object>"
      ]
     },
     "metadata": {},
     "output_type": "display_data"
    }
   ],
   "source": [
    "from IPython.display import display, HTML\n",
    "display(HTML(\"<style>:root { --jp-notebook-max-width: 90% !important; }</style>\"))"
   ]
  },
  {
   "cell_type": "code",
   "execution_count": 136,
   "id": "2398d3f9-6de4-44e8-90e6-f63bdfae48bd",
   "metadata": {},
   "outputs": [],
   "source": [
    "def get_wiki_data(query):\n",
    "\n",
    "    # Define SPARQL endpoint\n",
    "    sparql = SPARQLWrapper(\"https://query.wikidata.org/sparql\")\n",
    "    \n",
    "    headers = {\n",
    "        \"User-Agent\": \"MySPARQLQueryBot/1.0 (your_email@example.com)\"  # Use your own email for compliance\n",
    "    }\n",
    "    \n",
    "    # Create a SPARQLWrapper instance\n",
    "    sparql = SPARQLWrapper(\"https://query.wikidata.org/sparql\")\n",
    "    sparql.setQuery(query)\n",
    "    sparql.setReturnFormat(JSON)\n",
    "    sparql.addCustomHttpHeader(\"User-Agent\", \"MySPARQLQueryBot/1.0 (your_email@example.com)\")\n",
    "    \n",
    "    ### Get Responce from WIKI query service\n",
    "    response = sparql.query().response.read().decode(\"utf-8\")  # Decode the response as UTF-8\n",
    "    \n",
    "    ### Convert to JSON\n",
    "    data = json.loads(response)\n",
    "    results = data[\"results\"][\"bindings\"]\n",
    "    return results"
   ]
  },
  {
   "cell_type": "code",
   "execution_count": 146,
   "id": "7a4da4cf-7be9-4dcf-a00c-06c61f8f511b",
   "metadata": {},
   "outputs": [],
   "source": [
    "query_temp = \"\"\"\n",
    "\n",
    "SELECT DISTINCT ?person ?personLabel ?birthPlaceLabel ?birthDate ?coordinates ?deathPlaceLabel \n",
    "        ?coordinates_death ?deathDate ?wikipedia ?sexLabel ?ukraineRelatedEntityLabel \n",
    "WHERE {{\n",
    "\n",
    "  ?person wdt:P31 wd:Q5.  # instance of human\n",
    "\n",
    "  VALUES ?person {{ {items} }}\n",
    "\n",
    "  # Wikipedia article in Ukrainian\n",
    "  ?wikipedia schema:about ?person;\n",
    "             schema:isPartOf <https://uk.wikipedia.org/>.\n",
    "\n",
    "  # Birth info\n",
    "  ?person wdt:P19 ?birthPlace.\n",
    "  ?birthPlace wdt:P625 ?coordinates.\n",
    "  ?person wdt:P569 ?birthDate.\n",
    "\n",
    "  OPTIONAL {{ ?person wdt:P27 ?ukraineRelatedEntity. }}\n",
    "  \n",
    "  # Optional death info\n",
    "  OPTIONAL {{ ?person wdt:P20 ?deathPlace. \n",
    "                     ?deathPlace wdt:P625 ?coordinates_death. }}\n",
    "  OPTIONAL {{ ?person wdt:P570 ?deathDate. }}\n",
    "\n",
    "  OPTIONAL {{ ?person wdt:P21 ?sex. }}\n",
    "\n",
    "  SERVICE wikibase:label {{ bd:serviceParam wikibase:language \"uk\". }}\n",
    "}}\n",
    "LIMIT 30000\n",
    "\"\"\"\n",
    "\n",
    "query = query_temp.format(items=items)"
   ]
  },
  {
   "cell_type": "code",
   "execution_count": 181,
   "id": "59f6be5f-77d2-4763-b5a1-576ff78948c0",
   "metadata": {},
   "outputs": [
    {
     "name": "stdout",
     "output_type": "stream",
     "text": [
      "3997\n"
     ]
    }
   ],
   "source": [
    "### Read data extracted from https://petscan.wmcloud.org/\n",
    "### Search query: \n",
    "### \"українське походження\" OR \"українського походження\" OR \"українських емігрантів\" OR \"українського емігрантського\" OR \"етнічний українець\" OR \"етнічна українка\" OR \"українка за походженням\" OR \"українець за походженням\" OR \"в родині українців\"\n",
    "\n",
    "items_df = pd.read_csv('download_from_petscan.csv')\n",
    "items_df.Wikidata = \"wd:\" + items_df.Wikidata.astype(str)\n",
    "unique_items = items_df.Wikidata.unique()\n",
    "items = \" \".join(uniqitems.tolist())\n",
    "print(len(unique_items))"
   ]
  },
  {
   "cell_type": "code",
   "execution_count": 189,
   "id": "d5a8d332-6855-4a17-8e7a-0f63efcc9d77",
   "metadata": {},
   "outputs": [
    {
     "name": "stdout",
     "output_type": "stream",
     "text": [
      "Dataframe size: (4000, 3)\n"
     ]
    },
    {
     "data": {
      "text/html": [
       "<div>\n",
       "<style scoped>\n",
       "    .dataframe tbody tr th:only-of-type {\n",
       "        vertical-align: middle;\n",
       "    }\n",
       "\n",
       "    .dataframe tbody tr th {\n",
       "        vertical-align: top;\n",
       "    }\n",
       "\n",
       "    .dataframe thead th {\n",
       "        text-align: right;\n",
       "    }\n",
       "</style>\n",
       "<table border=\"1\" class=\"dataframe\">\n",
       "  <thead>\n",
       "    <tr style=\"text-align: right;\">\n",
       "      <th></th>\n",
       "      <th>Title</th>\n",
       "      <th>Pageid</th>\n",
       "      <th>Wikidata</th>\n",
       "    </tr>\n",
       "  </thead>\n",
       "  <tbody>\n",
       "    <tr>\n",
       "      <th>0</th>\n",
       "      <td>1908</td>\n",
       "      <td>622</td>\n",
       "      <td>wd:Q2056</td>\n",
       "    </tr>\n",
       "    <tr>\n",
       "      <th>1</th>\n",
       "      <td>1904</td>\n",
       "      <td>625</td>\n",
       "      <td>wd:Q2046</td>\n",
       "    </tr>\n",
       "    <tr>\n",
       "      <th>2</th>\n",
       "      <td>1979</td>\n",
       "      <td>640</td>\n",
       "      <td>wd:Q2484</td>\n",
       "    </tr>\n",
       "    <tr>\n",
       "      <th>3</th>\n",
       "      <td>1900</td>\n",
       "      <td>671</td>\n",
       "      <td>wd:Q2034</td>\n",
       "    </tr>\n",
       "    <tr>\n",
       "      <th>4</th>\n",
       "      <td>1919</td>\n",
       "      <td>674</td>\n",
       "      <td>wd:Q2157</td>\n",
       "    </tr>\n",
       "  </tbody>\n",
       "</table>\n",
       "</div>"
      ],
      "text/plain": [
       "  Title  Pageid  Wikidata\n",
       "0  1908     622  wd:Q2056\n",
       "1  1904     625  wd:Q2046\n",
       "2  1979     640  wd:Q2484\n",
       "3  1900     671  wd:Q2034\n",
       "4  1919     674  wd:Q2157"
      ]
     },
     "execution_count": 189,
     "metadata": {},
     "output_type": "execute_result"
    }
   ],
   "source": [
    "import requests\n",
    "import pandas as pd\n",
    "import json\n",
    "\n",
    "### Define queary before usage using search input and extract psid from: https://petscan.wmcloud.org/\n",
    "### Search query: \n",
    "### \"українське походження\" OR \"українського походження\" OR \"українських емігрантів\" OR \"українського емігрантського\" OR \"етнічний українець\" OR \"етнічна українка\" OR \"українка за походженням\" OR \"українець за походженням\" OR \"в родині українців\"\n",
    "\n",
    "psid = 34986493\n",
    "url = f\"https://petscan.wmflabs.org/?psid={psid}&format=json\"\n",
    "\n",
    "response = requests.get(url)\n",
    "data = response.json()\n",
    "\n",
    "# Pages are usually here:\n",
    "try:\n",
    "    pages = data['*'][0]['a'][\"*\"]\n",
    "except (KeyError, IndexError, TypeError):\n",
    "    pages = []\n",
    "\n",
    "# Build a DataFrame\n",
    "results = []\n",
    "for page in pages:\n",
    "    if isinstance(page, dict):\n",
    "        results.append({\n",
    "            'Title': page.get('title'),\n",
    "            'Pageid': page.get('id'),\n",
    "            'Wikidata': page.get('q')\n",
    "        })\n",
    "\n",
    "items_df = pd.DataFrame(results)\n",
    "items_df.Wikidata = \"wd:\" + items_df.Wikidata.astype(str)\n",
    "unique_items = items_df.Wikidata.unique()\n",
    "print('Dataframe size:', items_df.shape)\n",
    "\n",
    "items_df.head()"
   ]
  },
  {
   "cell_type": "code",
   "execution_count": 190,
   "id": "71dfd5ff-2bd1-4d20-8eb0-7b4d29577f2b",
   "metadata": {},
   "outputs": [
    {
     "name": "stdout",
     "output_type": "stream",
     "text": [
      "Count: 4\n",
      "Count: 46\n",
      "Count: 93\n",
      "Count: 69\n",
      "Count: 107\n",
      "Count: 31\n",
      "Count: 48\n",
      "Count: 8\n",
      "Count: 41\n",
      "Count: 51\n",
      "Count: 88\n",
      "Count: 66\n",
      "Count: 71\n",
      "Count: 55\n",
      "Count: 70\n",
      "Count: 58\n",
      "Count: 83\n",
      "Count: 74\n",
      "Count: 90\n",
      "Count: 73\n",
      "Count: 73\n",
      "Count: 63\n",
      "Count: 68\n",
      "Count: 65\n",
      "Count: 52\n",
      "Count: 72\n",
      "Count: 86\n",
      "Count: 74\n",
      "Count: 114\n",
      "Count: 53\n",
      "Count: 78\n",
      "Count: 71\n",
      "Count: 71\n",
      "Count: 95\n",
      "Count: 62\n",
      "Count: 86\n",
      "Count: 72\n",
      "Count: 80\n",
      "Count: 70\n",
      "Count: 82\n",
      "Count: 0\n",
      "Count: 0\n",
      "Total result: (2713, 10)\n"
     ]
    }
   ],
   "source": [
    "s = 100\n",
    "result_all = pd.DataFrame()\n",
    "for x in range(0, int(len(unique_items)/100)+2):\n",
    "    temp = unique_items[x*100: (x+1)*100]\n",
    "    temp_str = ' '.join(temp)\n",
    "    query = query_temp.format(items=temp_str)\n",
    "    results_json = get_wiki_data(query=query)\n",
    "\n",
    "    # Convert results to a pandas DataFrame\n",
    "    df = pd.DataFrame([\n",
    "        {\n",
    "            \"Coordinates\": item.get(\"coordinates\", {}).get(\"value\", \"\"),\n",
    "            \"PersonName\": item.get(\"personLabel\", {}).get(\"value\", \"\"),\n",
    "            \"BirthPlace\": item.get(\"birthPlaceLabel\", {}).get(\"value\", \"\"),\n",
    "            \"BirthDate\": item.get(\"birthDate\", {}).get(\"value\", \"\"),\n",
    "            \"DeathDate\": item.get(\"deathDate\", {}).get(\"value\", \"\"),\n",
    "            \"DeathPlace\": item.get(\"deathPlaceLabel\", {}).get(\"value\", \"\"),\n",
    "            \"Coordinates_death\": item.get(\"coordinates_death\", {}).get(\"value\", \"\"),\n",
    "            \"Sex\": item.get(\"sexLabel\", {}).get(\"value\", \"\"),\n",
    "            \"WikipediaURL\": item.get(\"wikipedia\", {}).get(\"value\", \"\"),\n",
    "            \"Affiliation\": item.get(\"ukraineRelatedEntityLabel\", {}).get(\"value\", \"Україна\"),\n",
    "        }\n",
    "        for item in results_json\n",
    "    ])\n",
    "\n",
    "\n",
    "    result_all = result_all._append(df)\n",
    "    print('Count:', len(results_json))\n",
    "print('Total result:', result_all.shape)"
   ]
  },
  {
   "cell_type": "code",
   "execution_count": 191,
   "id": "40571b7f-526e-487a-b7bf-6737791570e0",
   "metadata": {},
   "outputs": [],
   "source": [
    "result_all = result_all.drop_duplicates(['PersonName','WikipediaURL'])\n",
    "result_all.to_excel('petscan_data.xlsx', index=False)"
   ]
  },
  {
   "cell_type": "code",
   "execution_count": null,
   "id": "1046d90b-b7d9-4086-9bef-b76efab2da9e",
   "metadata": {},
   "outputs": [],
   "source": []
  }
 ],
 "metadata": {
  "kernelspec": {
   "display_name": "Python 3 (ipykernel)",
   "language": "python",
   "name": "python3"
  },
  "language_info": {
   "codemirror_mode": {
    "name": "ipython",
    "version": 3
   },
   "file_extension": ".py",
   "mimetype": "text/x-python",
   "name": "python",
   "nbconvert_exporter": "python",
   "pygments_lexer": "ipython3",
   "version": "3.13.2"
  }
 },
 "nbformat": 4,
 "nbformat_minor": 5
}
